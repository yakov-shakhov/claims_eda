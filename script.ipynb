{
 "cells": [
  {
   "cell_type": "markdown",
   "id": "e0711e07",
   "metadata": {},
   "source": [
    "### <i>Claims Analysis</i>\n",
    "<i>by Yakov Shakhov</i>"
   ]
  },
  {
   "cell_type": "code",
   "execution_count": 143,
   "id": "40a893cc",
   "metadata": {},
   "outputs": [
    {
     "name": "stdout",
     "output_type": "stream",
     "text": [
      "52152 rows are in the table.\n"
     ]
    },
    {
     "data": {
      "text/html": [
       "<div>\n",
       "<style scoped>\n",
       "    .dataframe tbody tr th:only-of-type {\n",
       "        vertical-align: middle;\n",
       "    }\n",
       "\n",
       "    .dataframe tbody tr th {\n",
       "        vertical-align: top;\n",
       "    }\n",
       "\n",
       "    .dataframe thead th {\n",
       "        text-align: right;\n",
       "    }\n",
       "</style>\n",
       "<table border=\"1\" class=\"dataframe\">\n",
       "  <thead>\n",
       "    <tr style=\"text-align: right;\">\n",
       "      <th></th>\n",
       "      <th>MONTH</th>\n",
       "      <th>SERVICE_CATEGORY</th>\n",
       "      <th>CLAIM_SPECIALTY</th>\n",
       "      <th>PAYER</th>\n",
       "      <th>PAID_AMOUNT</th>\n",
       "    </tr>\n",
       "  </thead>\n",
       "  <tbody>\n",
       "    <tr>\n",
       "      <th>0</th>\n",
       "      <td>201801</td>\n",
       "      <td>AncillaryFFS</td>\n",
       "      <td>NaN</td>\n",
       "      <td>Payer F</td>\n",
       "      <td>4281</td>\n",
       "    </tr>\n",
       "    <tr>\n",
       "      <th>1</th>\n",
       "      <td>201801</td>\n",
       "      <td>AncillaryFFS</td>\n",
       "      <td>NaN</td>\n",
       "      <td>Payer H</td>\n",
       "      <td>2221</td>\n",
       "    </tr>\n",
       "    <tr>\n",
       "      <th>2</th>\n",
       "      <td>201801</td>\n",
       "      <td>AncillaryFFS</td>\n",
       "      <td>NaN</td>\n",
       "      <td>Payer O</td>\n",
       "      <td>3937</td>\n",
       "    </tr>\n",
       "  </tbody>\n",
       "</table>\n",
       "</div>"
      ],
      "text/plain": [
       "    MONTH SERVICE_CATEGORY CLAIM_SPECIALTY    PAYER  PAID_AMOUNT\n",
       "0  201801     AncillaryFFS             NaN  Payer F         4281\n",
       "1  201801     AncillaryFFS             NaN  Payer H         2221\n",
       "2  201801     AncillaryFFS             NaN  Payer O         3937"
      ]
     },
     "execution_count": 143,
     "metadata": {},
     "output_type": "execute_result"
    }
   ],
   "source": [
    "import pandas as pd\n",
    "import numpy as np\n",
    "import matplotlib.pyplot as plt\n",
    "import seaborn\n",
    "import warnings        \n",
    "warnings.filterwarnings(\"ignore\") # if there is a warning after some codes, this will avoid us to see them.\n",
    "\n",
    "df = pd.read_csv('claims_sample_data.csv')\n",
    "print(df.shape[0], 'rows are in the table.')\n",
    "df.head(3)"
   ]
  },
  {
   "cell_type": "markdown",
   "id": "c4100de4",
   "metadata": {},
   "source": [
    "#### Data Cleaning"
   ]
  },
  {
   "cell_type": "code",
   "execution_count": 144,
   "id": "bce20bf0",
   "metadata": {},
   "outputs": [
    {
     "name": "stdout",
     "output_type": "stream",
     "text": [
      "There are 52074 claims with totally amount 193312881.\n"
     ]
    },
    {
     "data": {
      "text/html": [
       "<div>\n",
       "<style scoped>\n",
       "    .dataframe tbody tr th:only-of-type {\n",
       "        vertical-align: middle;\n",
       "    }\n",
       "\n",
       "    .dataframe tbody tr th {\n",
       "        vertical-align: top;\n",
       "    }\n",
       "\n",
       "    .dataframe thead th {\n",
       "        text-align: right;\n",
       "    }\n",
       "</style>\n",
       "<table border=\"1\" class=\"dataframe\">\n",
       "  <thead>\n",
       "    <tr style=\"text-align: right;\">\n",
       "      <th></th>\n",
       "      <th>claims_count</th>\n",
       "      <th>amount</th>\n",
       "      <th>average_price</th>\n",
       "    </tr>\n",
       "    <tr>\n",
       "      <th>MONTH</th>\n",
       "      <th></th>\n",
       "      <th></th>\n",
       "      <th></th>\n",
       "    </tr>\n",
       "  </thead>\n",
       "  <tbody>\n",
       "    <tr>\n",
       "      <th>201801</th>\n",
       "      <td>1712</td>\n",
       "      <td>6959445</td>\n",
       "      <td>4065.10</td>\n",
       "    </tr>\n",
       "    <tr>\n",
       "      <th>201802</th>\n",
       "      <td>1664</td>\n",
       "      <td>6430877</td>\n",
       "      <td>3864.71</td>\n",
       "    </tr>\n",
       "    <tr>\n",
       "      <th>201803</th>\n",
       "      <td>1723</td>\n",
       "      <td>6436167</td>\n",
       "      <td>3735.44</td>\n",
       "    </tr>\n",
       "    <tr>\n",
       "      <th>201804</th>\n",
       "      <td>1714</td>\n",
       "      <td>6748037</td>\n",
       "      <td>3937.01</td>\n",
       "    </tr>\n",
       "    <tr>\n",
       "      <th>201805</th>\n",
       "      <td>1759</td>\n",
       "      <td>6937332</td>\n",
       "      <td>3943.91</td>\n",
       "    </tr>\n",
       "    <tr>\n",
       "      <th>201806</th>\n",
       "      <td>1745</td>\n",
       "      <td>5888847</td>\n",
       "      <td>3374.70</td>\n",
       "    </tr>\n",
       "    <tr>\n",
       "      <th>201807</th>\n",
       "      <td>1706</td>\n",
       "      <td>5874723</td>\n",
       "      <td>3443.57</td>\n",
       "    </tr>\n",
       "    <tr>\n",
       "      <th>201808</th>\n",
       "      <td>1775</td>\n",
       "      <td>6268040</td>\n",
       "      <td>3531.29</td>\n",
       "    </tr>\n",
       "    <tr>\n",
       "      <th>201809</th>\n",
       "      <td>1767</td>\n",
       "      <td>5818710</td>\n",
       "      <td>3292.99</td>\n",
       "    </tr>\n",
       "    <tr>\n",
       "      <th>201810</th>\n",
       "      <td>1748</td>\n",
       "      <td>7103820</td>\n",
       "      <td>4063.97</td>\n",
       "    </tr>\n",
       "    <tr>\n",
       "      <th>201811</th>\n",
       "      <td>1747</td>\n",
       "      <td>6505783</td>\n",
       "      <td>3723.97</td>\n",
       "    </tr>\n",
       "    <tr>\n",
       "      <th>201812</th>\n",
       "      <td>1718</td>\n",
       "      <td>5805446</td>\n",
       "      <td>3379.19</td>\n",
       "    </tr>\n",
       "    <tr>\n",
       "      <th>201901</th>\n",
       "      <td>1790</td>\n",
       "      <td>6264273</td>\n",
       "      <td>3499.59</td>\n",
       "    </tr>\n",
       "    <tr>\n",
       "      <th>201902</th>\n",
       "      <td>1751</td>\n",
       "      <td>5665218</td>\n",
       "      <td>3235.42</td>\n",
       "    </tr>\n",
       "    <tr>\n",
       "      <th>201903</th>\n",
       "      <td>1769</td>\n",
       "      <td>7091354</td>\n",
       "      <td>4008.68</td>\n",
       "    </tr>\n",
       "    <tr>\n",
       "      <th>201904</th>\n",
       "      <td>1767</td>\n",
       "      <td>7101915</td>\n",
       "      <td>4019.19</td>\n",
       "    </tr>\n",
       "    <tr>\n",
       "      <th>201905</th>\n",
       "      <td>1823</td>\n",
       "      <td>8558681</td>\n",
       "      <td>4694.83</td>\n",
       "    </tr>\n",
       "    <tr>\n",
       "      <th>201906</th>\n",
       "      <td>1746</td>\n",
       "      <td>6144328</td>\n",
       "      <td>3519.09</td>\n",
       "    </tr>\n",
       "    <tr>\n",
       "      <th>201907</th>\n",
       "      <td>1877</td>\n",
       "      <td>7473785</td>\n",
       "      <td>3981.77</td>\n",
       "    </tr>\n",
       "    <tr>\n",
       "      <th>201908</th>\n",
       "      <td>1828</td>\n",
       "      <td>7403710</td>\n",
       "      <td>4050.17</td>\n",
       "    </tr>\n",
       "    <tr>\n",
       "      <th>201909</th>\n",
       "      <td>1774</td>\n",
       "      <td>6519659</td>\n",
       "      <td>3675.12</td>\n",
       "    </tr>\n",
       "    <tr>\n",
       "      <th>201910</th>\n",
       "      <td>1863</td>\n",
       "      <td>7156007</td>\n",
       "      <td>3841.12</td>\n",
       "    </tr>\n",
       "    <tr>\n",
       "      <th>201911</th>\n",
       "      <td>1723</td>\n",
       "      <td>6726444</td>\n",
       "      <td>3903.91</td>\n",
       "    </tr>\n",
       "    <tr>\n",
       "      <th>201912</th>\n",
       "      <td>1772</td>\n",
       "      <td>6672237</td>\n",
       "      <td>3765.37</td>\n",
       "    </tr>\n",
       "    <tr>\n",
       "      <th>202001</th>\n",
       "      <td>1782</td>\n",
       "      <td>7449768</td>\n",
       "      <td>4180.57</td>\n",
       "    </tr>\n",
       "    <tr>\n",
       "      <th>202002</th>\n",
       "      <td>1711</td>\n",
       "      <td>6455708</td>\n",
       "      <td>3773.06</td>\n",
       "    </tr>\n",
       "    <tr>\n",
       "      <th>202003</th>\n",
       "      <td>1769</td>\n",
       "      <td>6541616</td>\n",
       "      <td>3697.92</td>\n",
       "    </tr>\n",
       "    <tr>\n",
       "      <th>202004</th>\n",
       "      <td>1539</td>\n",
       "      <td>4981590</td>\n",
       "      <td>3236.90</td>\n",
       "    </tr>\n",
       "    <tr>\n",
       "      <th>202005</th>\n",
       "      <td>1668</td>\n",
       "      <td>5415924</td>\n",
       "      <td>3246.96</td>\n",
       "    </tr>\n",
       "    <tr>\n",
       "      <th>202006</th>\n",
       "      <td>1344</td>\n",
       "      <td>2913437</td>\n",
       "      <td>2167.74</td>\n",
       "    </tr>\n",
       "  </tbody>\n",
       "</table>\n",
       "</div>"
      ],
      "text/plain": [
       "        claims_count   amount  average_price\n",
       "MONTH                                       \n",
       "201801          1712  6959445        4065.10\n",
       "201802          1664  6430877        3864.71\n",
       "201803          1723  6436167        3735.44\n",
       "201804          1714  6748037        3937.01\n",
       "201805          1759  6937332        3943.91\n",
       "201806          1745  5888847        3374.70\n",
       "201807          1706  5874723        3443.57\n",
       "201808          1775  6268040        3531.29\n",
       "201809          1767  5818710        3292.99\n",
       "201810          1748  7103820        4063.97\n",
       "201811          1747  6505783        3723.97\n",
       "201812          1718  5805446        3379.19\n",
       "201901          1790  6264273        3499.59\n",
       "201902          1751  5665218        3235.42\n",
       "201903          1769  7091354        4008.68\n",
       "201904          1767  7101915        4019.19\n",
       "201905          1823  8558681        4694.83\n",
       "201906          1746  6144328        3519.09\n",
       "201907          1877  7473785        3981.77\n",
       "201908          1828  7403710        4050.17\n",
       "201909          1774  6519659        3675.12\n",
       "201910          1863  7156007        3841.12\n",
       "201911          1723  6726444        3903.91\n",
       "201912          1772  6672237        3765.37\n",
       "202001          1782  7449768        4180.57\n",
       "202002          1711  6455708        3773.06\n",
       "202003          1769  6541616        3697.92\n",
       "202004          1539  4981590        3236.90\n",
       "202005          1668  5415924        3246.96\n",
       "202006          1344  2913437        2167.74"
      ]
     },
     "execution_count": 144,
     "metadata": {},
     "output_type": "execute_result"
    }
   ],
   "source": [
    "# dete an updefined month\n",
    "df = df[df.MONTH != 201900 ]\n",
    "\n",
    "# delete an the last month because it is incomplete.h\n",
    "df = df[df.MONTH != 202007 ]\n",
    "\n",
    "# fill none values fields\n",
    "df['CLAIM_SPECIALTY'] = df['CLAIM_SPECIALTY'].fillna('_undefined')\n",
    "\n",
    "# pivot the dataset\n",
    "df_pivot = df.pivot(index=['SERVICE_CATEGORY','CLAIM_SPECIALTY','PAYER'],columns='MONTH',values='PAID_AMOUNT')\n",
    "df_pivot = df_pivot.fillna(0)\n",
    "\n",
    "# month statistics\n",
    "df_monthly_stat = df[['MONTH','PAID_AMOUNT']].groupby('MONTH').agg(['count','sum'])\n",
    "df_monthly_stat.columns = ['claims_count', 'amount']\n",
    "df_monthly_stat['average_price'] = round(df_monthly_stat.amount / df_monthly_stat.claims_count, 2)\n",
    "\n",
    "k = df_monthly_stat.claims_count.sum()\n",
    "s = df_monthly_stat.amount.sum()\n",
    "print(\"There are {0} claims with totally amount {1}.\".format(k, s))\n",
    "df_monthly_stat"
   ]
  },
  {
   "cell_type": "code",
   "execution_count": 145,
   "id": "49bfa0e0",
   "metadata": {},
   "outputs": [
    {
     "name": "stdout",
     "output_type": "stream",
     "text": [
      "Count of claims by month\n"
     ]
    },
    {
     "data": {
      "text/plain": [
       "<AxesSubplot:xlabel='MONTH'>"
      ]
     },
     "execution_count": 145,
     "metadata": {},
     "output_type": "execute_result"
    },
    {
     "data": {
      "image/png": "[encoded data removed]",
      "text/plain": [
       "<Figure size 432x288 with 1 Axes>"
      ]
     },
     "metadata": {
      "needs_background": "light"
     },
     "output_type": "display_data"
    }
   ],
   "source": [
    "print('Count of claims by month')\n",
    "df_monthly_stat.claims_count.plot.bar()"
   ]
  },
  {
   "cell_type": "code",
   "execution_count": 146,
   "id": "0dce2b9d",
   "metadata": {},
   "outputs": [
    {
     "name": "stdout",
     "output_type": "stream",
     "text": [
      "Amount by month\n"
     ]
    },
    {
     "data": {
      "text/plain": [
       "<AxesSubplot:xlabel='MONTH'>"
      ]
     },
     "execution_count": 146,
     "metadata": {},
     "output_type": "execute_result"
    },
    {
     "data": {
      "image/png": "[encoded data removed]",
      "text/plain": [
       "<Figure size 432x288 with 1 Axes>"
      ]
     },
     "metadata": {
      "needs_background": "light"
     },
     "output_type": "display_data"
    }
   ],
   "source": [
    "print('Amount by month')\n",
    "df_monthly_stat.amount.plot.bar()"
   ]
  },
  {
   "cell_type": "code",
   "execution_count": 147,
   "id": "5cc489af",
   "metadata": {},
   "outputs": [
    {
     "name": "stdout",
     "output_type": "stream",
     "text": [
      "Average price by month\n"
     ]
    },
    {
     "data": {
      "text/plain": [
       "<AxesSubplot:xlabel='MONTH'>"
      ]
     },
     "execution_count": 147,
     "metadata": {},
     "output_type": "execute_result"
    },
    {
     "data": {
      "image/png": "[encoded data removed]",
      "text/plain": [
       "<Figure size 432x288 with 1 Axes>"
      ]
     },
     "metadata": {
      "needs_background": "light"
     },
     "output_type": "display_data"
    }
   ],
   "source": [
    "print('Average price by month')\n",
    "df_monthly_stat.average_price.plot.bar()"
   ]
  },
  {
   "cell_type": "markdown",
   "id": "272c67a8",
   "metadata": {},
   "source": [
    "#### \tSERVICE_CATEGORY"
   ]
  },
  {
   "cell_type": "code",
   "execution_count": 148,
   "id": "407c156d",
   "metadata": {},
   "outputs": [
    {
     "data": {
      "text/html": [
       "<div>\n",
       "<style scoped>\n",
       "    .dataframe tbody tr th:only-of-type {\n",
       "        vertical-align: middle;\n",
       "    }\n",
       "\n",
       "    .dataframe tbody tr th {\n",
       "        vertical-align: top;\n",
       "    }\n",
       "\n",
       "    .dataframe thead th {\n",
       "        text-align: right;\n",
       "    }\n",
       "</style>\n",
       "<table border=\"1\" class=\"dataframe\">\n",
       "  <thead>\n",
       "    <tr style=\"text-align: right;\">\n",
       "      <th></th>\n",
       "      <th>claims_count</th>\n",
       "      <th>amount</th>\n",
       "      <th>average_price</th>\n",
       "    </tr>\n",
       "    <tr>\n",
       "      <th>SERVICE_CATEGORY</th>\n",
       "      <th></th>\n",
       "      <th></th>\n",
       "      <th></th>\n",
       "    </tr>\n",
       "  </thead>\n",
       "  <tbody>\n",
       "    <tr>\n",
       "      <th>InpatientServices</th>\n",
       "      <td>9413</td>\n",
       "      <td>87829236</td>\n",
       "      <td>9330.63</td>\n",
       "    </tr>\n",
       "    <tr>\n",
       "      <th>SpecialistsFFS</th>\n",
       "      <td>12275</td>\n",
       "      <td>32319772</td>\n",
       "      <td>2632.98</td>\n",
       "    </tr>\n",
       "    <tr>\n",
       "      <th>OutpatientServices</th>\n",
       "      <td>7572</td>\n",
       "      <td>22929066</td>\n",
       "      <td>3028.14</td>\n",
       "    </tr>\n",
       "    <tr>\n",
       "      <th>AncillaryFFS</th>\n",
       "      <td>9682</td>\n",
       "      <td>19199801</td>\n",
       "      <td>1983.04</td>\n",
       "    </tr>\n",
       "    <tr>\n",
       "      <th>ERServices</th>\n",
       "      <td>3690</td>\n",
       "      <td>11765179</td>\n",
       "      <td>3188.40</td>\n",
       "    </tr>\n",
       "    <tr>\n",
       "      <th>SNFServices</th>\n",
       "      <td>2497</td>\n",
       "      <td>8225118</td>\n",
       "      <td>3294.00</td>\n",
       "    </tr>\n",
       "    <tr>\n",
       "      <th>ASCServices</th>\n",
       "      <td>2639</td>\n",
       "      <td>5186366</td>\n",
       "      <td>1965.28</td>\n",
       "    </tr>\n",
       "    <tr>\n",
       "      <th>PCPFFS</th>\n",
       "      <td>1401</td>\n",
       "      <td>3888872</td>\n",
       "      <td>2775.78</td>\n",
       "    </tr>\n",
       "    <tr>\n",
       "      <th>SpecialistFFS</th>\n",
       "      <td>1684</td>\n",
       "      <td>2005359</td>\n",
       "      <td>1190.83</td>\n",
       "    </tr>\n",
       "    <tr>\n",
       "      <th>PCPEncounter</th>\n",
       "      <td>1221</td>\n",
       "      <td>-35888</td>\n",
       "      <td>-29.39</td>\n",
       "    </tr>\n",
       "  </tbody>\n",
       "</table>\n",
       "</div>"
      ],
      "text/plain": [
       "                    claims_count    amount  average_price\n",
       "SERVICE_CATEGORY                                         \n",
       "InpatientServices           9413  87829236        9330.63\n",
       "SpecialistsFFS             12275  32319772        2632.98\n",
       "OutpatientServices          7572  22929066        3028.14\n",
       "AncillaryFFS                9682  19199801        1983.04\n",
       "ERServices                  3690  11765179        3188.40\n",
       "SNFServices                 2497   8225118        3294.00\n",
       "ASCServices                 2639   5186366        1965.28\n",
       "PCPFFS                      1401   3888872        2775.78\n",
       "SpecialistFFS               1684   2005359        1190.83\n",
       "PCPEncounter                1221    -35888         -29.39"
      ]
     },
     "execution_count": 148,
     "metadata": {},
     "output_type": "execute_result"
    },
    {
     "data": {
      "image/png": "[encoded data removed]",
      "text/plain": [
       "<Figure size 432x288 with 1 Axes>"
      ]
     },
     "metadata": {
      "needs_background": "light"
     },
     "output_type": "display_data"
    }
   ],
   "source": [
    "df_service_category_stat = df[['SERVICE_CATEGORY','PAID_AMOUNT']].groupby('SERVICE_CATEGORY').agg(['count','sum'])\n",
    "df_service_category_stat.columns = ['claims_count', 'amount']\n",
    "df_service_category_stat['average_price'] = round(df_service_category_stat.amount / df_service_category_stat.claims_count, 2)\n",
    "df_service_category_stat.amount.sort_values(ascending=False).plot.barh()\n",
    "df_service_category_stat.sort_values('amount', ascending=False)"
   ]
  },
  {
   "cell_type": "code",
   "execution_count": null,
   "id": "a61f4550",
   "metadata": {},
   "outputs": [],
   "source": []
  },
  {
   "cell_type": "markdown",
   "id": "8259ad2d",
   "metadata": {},
   "source": [
    "#### PAYER"
   ]
  },
  {
   "cell_type": "code",
   "execution_count": 149,
   "id": "0b8920b6",
   "metadata": {},
   "outputs": [
    {
     "data": {
      "image/png": "[encoded data removed]",
      "text/plain": [
       "<Figure size 432x288 with 1 Axes>"
      ]
     },
     "metadata": {},
     "output_type": "display_data"
    },
    {
     "data": {
      "text/html": [
       "<div>\n",
       "<style scoped>\n",
       "    .dataframe tbody tr th:only-of-type {\n",
       "        vertical-align: middle;\n",
       "    }\n",
       "\n",
       "    .dataframe tbody tr th {\n",
       "        vertical-align: top;\n",
       "    }\n",
       "\n",
       "    .dataframe thead th {\n",
       "        text-align: right;\n",
       "    }\n",
       "</style>\n",
       "<table border=\"1\" class=\"dataframe\">\n",
       "  <thead>\n",
       "    <tr style=\"text-align: right;\">\n",
       "      <th></th>\n",
       "      <th>claims_count</th>\n",
       "      <th>amount</th>\n",
       "      <th>average_price</th>\n",
       "    </tr>\n",
       "    <tr>\n",
       "      <th>PAYER</th>\n",
       "      <th></th>\n",
       "      <th></th>\n",
       "      <th></th>\n",
       "    </tr>\n",
       "  </thead>\n",
       "  <tbody>\n",
       "    <tr>\n",
       "      <th>Payer F</th>\n",
       "      <td>9012</td>\n",
       "      <td>86767509</td>\n",
       "      <td>9628.00</td>\n",
       "    </tr>\n",
       "    <tr>\n",
       "      <th>Payer CA</th>\n",
       "      <td>8681</td>\n",
       "      <td>33635443</td>\n",
       "      <td>3874.60</td>\n",
       "    </tr>\n",
       "    <tr>\n",
       "      <th>Payer H</th>\n",
       "      <td>2291</td>\n",
       "      <td>21724291</td>\n",
       "      <td>9482.45</td>\n",
       "    </tr>\n",
       "    <tr>\n",
       "      <th>Payer O</th>\n",
       "      <td>6277</td>\n",
       "      <td>21419302</td>\n",
       "      <td>3412.35</td>\n",
       "    </tr>\n",
       "    <tr>\n",
       "      <th>Payer W</th>\n",
       "      <td>7105</td>\n",
       "      <td>12180954</td>\n",
       "      <td>1714.42</td>\n",
       "    </tr>\n",
       "    <tr>\n",
       "      <th>Payer UN</th>\n",
       "      <td>6526</td>\n",
       "      <td>5988435</td>\n",
       "      <td>917.63</td>\n",
       "    </tr>\n",
       "    <tr>\n",
       "      <th>Payer CO</th>\n",
       "      <td>3677</td>\n",
       "      <td>5068663</td>\n",
       "      <td>1378.48</td>\n",
       "    </tr>\n",
       "    <tr>\n",
       "      <th>Payer S</th>\n",
       "      <td>4189</td>\n",
       "      <td>3810748</td>\n",
       "      <td>909.70</td>\n",
       "    </tr>\n",
       "    <tr>\n",
       "      <th>Payer B</th>\n",
       "      <td>3631</td>\n",
       "      <td>2407509</td>\n",
       "      <td>663.04</td>\n",
       "    </tr>\n",
       "    <tr>\n",
       "      <th>Payer UL</th>\n",
       "      <td>685</td>\n",
       "      <td>310027</td>\n",
       "      <td>452.59</td>\n",
       "    </tr>\n",
       "  </tbody>\n",
       "</table>\n",
       "</div>"
      ],
      "text/plain": [
       "          claims_count    amount  average_price\n",
       "PAYER                                          \n",
       "Payer F           9012  86767509        9628.00\n",
       "Payer CA          8681  33635443        3874.60\n",
       "Payer H           2291  21724291        9482.45\n",
       "Payer O           6277  21419302        3412.35\n",
       "Payer W           7105  12180954        1714.42\n",
       "Payer UN          6526   5988435         917.63\n",
       "Payer CO          3677   5068663        1378.48\n",
       "Payer S           4189   3810748         909.70\n",
       "Payer B           3631   2407509         663.04\n",
       "Payer UL           685    310027         452.59"
      ]
     },
     "execution_count": 149,
     "metadata": {},
     "output_type": "execute_result"
    }
   ],
   "source": [
    "df_payer_stat = df[['PAYER','PAID_AMOUNT']].groupby('PAYER').agg(['count','sum'])\n",
    "df_payer_stat.columns = ['claims_count', 'amount']\n",
    "df_payer_stat['average_price'] = round(df_payer_stat.amount / df_payer_stat.claims_count, 2)\n",
    "df_payer_stat.amount.plot.pie()\n",
    "\n",
    "palette_color = seaborn.color_palette('bright')\n",
    "explode = [1, 0, 0, 0, 0, 0, 0, 0, 0, 0]\n",
    "plt.pie(df_payer_stat.amount, labels=df_payer_stat.index, \\\n",
    "        explode=explode, autopct='%.0f%%')\n",
    "plt.show()\n",
    "df_payer_stat.sort_values('amount', ascending=False)"
   ]
  },
  {
   "cell_type": "code",
   "execution_count": null,
   "id": "22433104",
   "metadata": {},
   "outputs": [],
   "source": []
  },
  {
   "cell_type": "markdown",
   "id": "a616acc8",
   "metadata": {},
   "source": [
    "#### CLAIM_SPECIALTY"
   ]
  },
  {
   "cell_type": "code",
   "execution_count": 150,
   "id": "894525d0",
   "metadata": {},
   "outputs": [
    {
     "name": "stdout",
     "output_type": "stream",
     "text": [
      "There are 906 claim specialities.\n"
     ]
    },
    {
     "data": {
      "text/plain": [
       "<AxesSubplot:ylabel='Density'>"
      ]
     },
     "execution_count": 150,
     "metadata": {},
     "output_type": "execute_result"
    },
    {
     "data": {
      "image/png": "[encoded data removed]",
      "text/plain": [
       "<Figure size 432x288 with 1 Axes>"
      ]
     },
     "metadata": {
      "needs_background": "light"
     },
     "output_type": "display_data"
    }
   ],
   "source": [
    "df_clainm_speciality_stat = df[['CLAIM_SPECIALTY','PAID_AMOUNT']].groupby('CLAIM_SPECIALTY').agg(['count','sum'])\n",
    "df_clainm_speciality_stat.columns = ['claims_count', 'amount']#d']\n",
    "df_clainm_speciality_stat['average_price'] = round(df_clainm_speciality_stat.amount / df_clainm_speciality_stat.claims_count, 2)\n",
    "\n",
    "n_top = 5\n",
    "print(\"There are {0} claim specialities.\".format(df_clainm_speciality_stat.shape[0]))\n",
    "df_clainm_speciality_stat.amount.plot.density()"
   ]
  },
  {
   "cell_type": "code",
   "execution_count": 151,
   "id": "c1301da1",
   "metadata": {},
   "outputs": [
    {
     "name": "stdout",
     "output_type": "stream",
     "text": [
      "TOP-5 most expensive claim specialities:\n"
     ]
    },
    {
     "data": {
      "image/png": "[encoded data removed]",
      "text/plain": [
       "<Figure size 432x288 with 1 Axes>"
      ]
     },
     "metadata": {},
     "output_type": "display_data"
    },
    {
     "data": {
      "text/html": [
       "<div>\n",
       "<style scoped>\n",
       "    .dataframe tbody tr th:only-of-type {\n",
       "        vertical-align: middle;\n",
       "    }\n",
       "\n",
       "    .dataframe tbody tr th {\n",
       "        vertical-align: top;\n",
       "    }\n",
       "\n",
       "    .dataframe thead th {\n",
       "        text-align: right;\n",
       "    }\n",
       "</style>\n",
       "<table border=\"1\" class=\"dataframe\">\n",
       "  <thead>\n",
       "    <tr style=\"text-align: right;\">\n",
       "      <th></th>\n",
       "      <th>claims_count</th>\n",
       "      <th>amount</th>\n",
       "      <th>average_price</th>\n",
       "    </tr>\n",
       "    <tr>\n",
       "      <th>CLAIM_SPECIALTY</th>\n",
       "      <th></th>\n",
       "      <th></th>\n",
       "      <th></th>\n",
       "    </tr>\n",
       "  </thead>\n",
       "  <tbody>\n",
       "    <tr>\n",
       "      <th>INP</th>\n",
       "      <td>60</td>\n",
       "      <td>41412982</td>\n",
       "      <td>690216.37</td>\n",
       "    </tr>\n",
       "    <tr>\n",
       "      <th>HOSPITAL</th>\n",
       "      <td>521</td>\n",
       "      <td>37781714</td>\n",
       "      <td>72517.69</td>\n",
       "    </tr>\n",
       "    <tr>\n",
       "      <th>OUT</th>\n",
       "      <td>120</td>\n",
       "      <td>14024841</td>\n",
       "      <td>116873.68</td>\n",
       "    </tr>\n",
       "    <tr>\n",
       "      <th>HEMATOLOGY/ONCOLOGY</th>\n",
       "      <td>539</td>\n",
       "      <td>5585900</td>\n",
       "      <td>10363.45</td>\n",
       "    </tr>\n",
       "    <tr>\n",
       "      <th>MEDICAL DOCTOR</th>\n",
       "      <td>270</td>\n",
       "      <td>4517978</td>\n",
       "      <td>16733.25</td>\n",
       "    </tr>\n",
       "    <tr>\n",
       "      <th>Others</th>\n",
       "      <td>50564</td>\n",
       "      <td>89989466</td>\n",
       "      <td>1779.71</td>\n",
       "    </tr>\n",
       "  </tbody>\n",
       "</table>\n",
       "</div>"
      ],
      "text/plain": [
       "                     claims_count    amount  average_price\n",
       "CLAIM_SPECIALTY                                           \n",
       "INP                            60  41412982      690216.37\n",
       "HOSPITAL                      521  37781714       72517.69\n",
       "OUT                           120  14024841      116873.68\n",
       "HEMATOLOGY/ONCOLOGY           539   5585900       10363.45\n",
       "MEDICAL DOCTOR                270   4517978       16733.25\n",
       "Others                      50564  89989466        1779.71"
      ]
     },
     "execution_count": 151,
     "metadata": {},
     "output_type": "execute_result"
    }
   ],
   "source": [
    "print('TOP-{0} most expensive claim specialities:'.format(n_top))\n",
    "\n",
    "df_top = df_clainm_speciality_stat.sort_values('amount', ascending=False).head(n_top)\n",
    "top_indexes = set(df_top.index)\n",
    "df_all = df_clainm_speciality_stat.reset_index()\n",
    "df_not_top = df_all[df_all.CLAIM_SPECIALTY.isin(top_indexes) == False]\n",
    "cnt = df_not_top.claims_count.sum()\n",
    "amnt = df_not_top.amount.sum()\n",
    "new_row = {'CLAIM_SPECIALTY': 'Others', \n",
    "           'claims_count': cnt,\n",
    "           'amount': amnt,\n",
    "           'average_price': round(amnt/cnt,2)}\n",
    "df_top = df_top.reset_index().append(new_row,ignore_index=True).set_index('CLAIM_SPECIALTY')\n",
    "#df_top.amount.plot.pie()\n",
    "\n",
    "palette_color = seaborn.color_palette('bright')\n",
    "explode = [0.1, 0, 0, 0, 0,0.05]\n",
    "plt.pie(df_top.amount, labels=df_top.index, \\\n",
    "        explode=explode, autopct='%.0f%%')\n",
    "plt.show()\n",
    "df_top"
   ]
  },
  {
   "cell_type": "markdown",
   "id": "adcbdde2",
   "metadata": {},
   "source": [
    "### Relationships between # Features"
   ]
  },
  {
   "cell_type": "code",
   "execution_count": 152,
   "id": "4c225005",
   "metadata": {},
   "outputs": [
    {
     "name": "stdout",
     "output_type": "stream",
     "text": [
      "Sum of all claims is 193312881\n",
      "TOP-4 most money pairs.\n"
     ]
    },
    {
     "data": {
      "image/png": "[encoded data removed]",
      "text/plain": [
       "<Figure size 432x288 with 1 Axes>"
      ]
     },
     "metadata": {},
     "output_type": "display_data"
    },
    {
     "data": {
      "text/html": [
       "<div>\n",
       "<style scoped>\n",
       "    .dataframe tbody tr th:only-of-type {\n",
       "        vertical-align: middle;\n",
       "    }\n",
       "\n",
       "    .dataframe tbody tr th {\n",
       "        vertical-align: top;\n",
       "    }\n",
       "\n",
       "    .dataframe thead th {\n",
       "        text-align: right;\n",
       "    }\n",
       "</style>\n",
       "<table border=\"1\" class=\"dataframe\">\n",
       "  <thead>\n",
       "    <tr style=\"text-align: right;\">\n",
       "      <th></th>\n",
       "      <th>SERVICE_CATEGORY</th>\n",
       "      <th>PAYER</th>\n",
       "      <th>PAID_AMOUNT</th>\n",
       "      <th>%</th>\n",
       "    </tr>\n",
       "  </thead>\n",
       "  <tbody>\n",
       "    <tr>\n",
       "      <th>0</th>\n",
       "      <td>InpatientServices</td>\n",
       "      <td>Payer F</td>\n",
       "      <td>40411428</td>\n",
       "      <td>20.90</td>\n",
       "    </tr>\n",
       "    <tr>\n",
       "      <th>1</th>\n",
       "      <td>InpatientServices</td>\n",
       "      <td>Payer CA</td>\n",
       "      <td>16477077</td>\n",
       "      <td>8.52</td>\n",
       "    </tr>\n",
       "    <tr>\n",
       "      <th>2</th>\n",
       "      <td>SpecialistsFFS</td>\n",
       "      <td>Payer F</td>\n",
       "      <td>16455093</td>\n",
       "      <td>8.51</td>\n",
       "    </tr>\n",
       "    <tr>\n",
       "      <th>3</th>\n",
       "      <td>InpatientServices</td>\n",
       "      <td>Payer H</td>\n",
       "      <td>10701917</td>\n",
       "      <td>5.54</td>\n",
       "    </tr>\n",
       "    <tr>\n",
       "      <th>4</th>\n",
       "      <td>Others</td>\n",
       "      <td></td>\n",
       "      <td>109267366</td>\n",
       "      <td>56.52</td>\n",
       "    </tr>\n",
       "  </tbody>\n",
       "</table>\n",
       "</div>"
      ],
      "text/plain": [
       "    SERVICE_CATEGORY     PAYER  PAID_AMOUNT      %\n",
       "0  InpatientServices   Payer F     40411428  20.90\n",
       "1  InpatientServices  Payer CA     16477077   8.52\n",
       "2     SpecialistsFFS   Payer F     16455093   8.51\n",
       "3  InpatientServices   Payer H     10701917   5.54\n",
       "4             Others              109267366  56.52"
      ]
     },
     "execution_count": 152,
     "metadata": {},
     "output_type": "execute_result"
    }
   ],
   "source": [
    "amount_sum = df.PAID_AMOUNT.sum() \n",
    "print('Sum of all claims is', amount_sum)\n",
    "df_ref = df[['SERVICE_CATEGORY','PAYER','PAID_AMOUNT']].groupby(['SERVICE_CATEGORY','PAYER']).sum().reset_index()\n",
    "df_ref['%'] = round(100 * df_ref.PAID_AMOUNT / amount_sum, 2)\n",
    "\n",
    "n_top = 4\n",
    "print(\"TOP-{0} most money pairs.\".format(n_top))\n",
    "df_top = df_ref.sort_values('PAID_AMOUNT',ascending=False).head(n_top)\n",
    "s = set(df_top.index)\n",
    "amnt = df_ref[df_ref.index.isin(s) == False].PAID_AMOUNT.sum()\n",
    "new_row = {'SERVICE_CATEGORY': 'Others',\n",
    "            'PAYER': '',\n",
    "            'PAID_AMOUNT': amnt,\n",
    "          '%': round(100*amnt/amount_sum,2)}\n",
    "df_top = df_top.append(new_row, ignore_index=True)\n",
    "df_n = df_top[['PAID_AMOUNT']]\n",
    "df_n['pair'] = df_top.SERVICE_CATEGORY + ' - ' + df_top.PAYER\n",
    "df_n.pair[4] = 'Others'\n",
    "\n",
    "palette_color = seaborn.color_palette('bright')\n",
    "explode = [0.1, 0, 0, 0, 0]\n",
    "plt.pie(df_n.PAID_AMOUNT, labels=df_n.pair, \\\n",
    "        explode=explode, autopct='%.0f%%')\n",
    "plt.show()\n",
    "\n",
    "df_top"
   ]
  },
  {
   "cell_type": "code",
   "execution_count": 156,
   "id": "55702881",
   "metadata": {},
   "outputs": [
    {
     "name": "stdout",
     "output_type": "stream",
     "text": [
      "Relationships between Service Category and Payer in percents:\n"
     ]
    },
    {
     "data": {
      "text/html": [
       "<div>\n",
       "<style scoped>\n",
       "    .dataframe tbody tr th:only-of-type {\n",
       "        vertical-align: middle;\n",
       "    }\n",
       "\n",
       "    .dataframe tbody tr th {\n",
       "        vertical-align: top;\n",
       "    }\n",
       "\n",
       "    .dataframe thead th {\n",
       "        text-align: right;\n",
       "    }\n",
       "</style>\n",
       "<table border=\"1\" class=\"dataframe\">\n",
       "  <thead>\n",
       "    <tr style=\"text-align: right;\">\n",
       "      <th>PAYER</th>\n",
       "      <th>Payer B</th>\n",
       "      <th>Payer CA</th>\n",
       "      <th>Payer CO</th>\n",
       "      <th>Payer F</th>\n",
       "      <th>Payer H</th>\n",
       "      <th>Payer O</th>\n",
       "      <th>Payer S</th>\n",
       "      <th>Payer UL</th>\n",
       "      <th>Payer UN</th>\n",
       "      <th>Payer W</th>\n",
       "    </tr>\n",
       "    <tr>\n",
       "      <th>SERVICE_CATEGORY</th>\n",
       "      <th></th>\n",
       "      <th></th>\n",
       "      <th></th>\n",
       "      <th></th>\n",
       "      <th></th>\n",
       "      <th></th>\n",
       "      <th></th>\n",
       "      <th></th>\n",
       "      <th></th>\n",
       "      <th></th>\n",
       "    </tr>\n",
       "  </thead>\n",
       "  <tbody>\n",
       "    <tr>\n",
       "      <th>ASCServices</th>\n",
       "      <td>0.08</td>\n",
       "      <td>0.42</td>\n",
       "      <td>0.08</td>\n",
       "      <td>1.14</td>\n",
       "      <td>0.26</td>\n",
       "      <td>0.35</td>\n",
       "      <td>0.05</td>\n",
       "      <td>0.01</td>\n",
       "      <td>0.15</td>\n",
       "      <td>0.14</td>\n",
       "    </tr>\n",
       "    <tr>\n",
       "      <th>AncillaryFFS</th>\n",
       "      <td>0.17</td>\n",
       "      <td>1.34</td>\n",
       "      <td>0.55</td>\n",
       "      <td>4.04</td>\n",
       "      <td>0.80</td>\n",
       "      <td>1.00</td>\n",
       "      <td>0.21</td>\n",
       "      <td>0.03</td>\n",
       "      <td>0.10</td>\n",
       "      <td>1.69</td>\n",
       "    </tr>\n",
       "    <tr>\n",
       "      <th>ERServices</th>\n",
       "      <td>0.07</td>\n",
       "      <td>0.92</td>\n",
       "      <td>0.15</td>\n",
       "      <td>2.58</td>\n",
       "      <td>0.98</td>\n",
       "      <td>0.92</td>\n",
       "      <td>0.07</td>\n",
       "      <td>0.02</td>\n",
       "      <td>0.13</td>\n",
       "      <td>0.24</td>\n",
       "    </tr>\n",
       "    <tr>\n",
       "      <th>InpatientServices</th>\n",
       "      <td>0.35</td>\n",
       "      <td>8.52</td>\n",
       "      <td>0.87</td>\n",
       "      <td>20.90</td>\n",
       "      <td>5.54</td>\n",
       "      <td>4.90</td>\n",
       "      <td>0.80</td>\n",
       "      <td>0.05</td>\n",
       "      <td>0.93</td>\n",
       "      <td>2.57</td>\n",
       "    </tr>\n",
       "    <tr>\n",
       "      <th>OutpatientServices</th>\n",
       "      <td>0.18</td>\n",
       "      <td>2.33</td>\n",
       "      <td>0.30</td>\n",
       "      <td>4.93</td>\n",
       "      <td>1.74</td>\n",
       "      <td>1.26</td>\n",
       "      <td>0.31</td>\n",
       "      <td>0.01</td>\n",
       "      <td>0.50</td>\n",
       "      <td>0.31</td>\n",
       "    </tr>\n",
       "    <tr>\n",
       "      <th>PCPEncounter</th>\n",
       "      <td>0.00</td>\n",
       "      <td>-0.03</td>\n",
       "      <td>0.01</td>\n",
       "      <td>0.00</td>\n",
       "      <td>0.00</td>\n",
       "      <td>0.00</td>\n",
       "      <td>0.00</td>\n",
       "      <td>0.00</td>\n",
       "      <td>0.00</td>\n",
       "      <td>0.00</td>\n",
       "    </tr>\n",
       "    <tr>\n",
       "      <th>PCPFFS</th>\n",
       "      <td>0.04</td>\n",
       "      <td>0.53</td>\n",
       "      <td>0.01</td>\n",
       "      <td>0.69</td>\n",
       "      <td>0.27</td>\n",
       "      <td>0.15</td>\n",
       "      <td>0.00</td>\n",
       "      <td>0.00</td>\n",
       "      <td>0.23</td>\n",
       "      <td>0.10</td>\n",
       "    </tr>\n",
       "    <tr>\n",
       "      <th>SNFServices</th>\n",
       "      <td>0.03</td>\n",
       "      <td>0.85</td>\n",
       "      <td>0.08</td>\n",
       "      <td>2.05</td>\n",
       "      <td>0.42</td>\n",
       "      <td>0.48</td>\n",
       "      <td>0.05</td>\n",
       "      <td>0.00</td>\n",
       "      <td>0.11</td>\n",
       "      <td>0.17</td>\n",
       "    </tr>\n",
       "    <tr>\n",
       "      <th>SpecialistFFS</th>\n",
       "      <td>0.00</td>\n",
       "      <td>0.00</td>\n",
       "      <td>0.00</td>\n",
       "      <td>0.03</td>\n",
       "      <td>0.00</td>\n",
       "      <td>0.00</td>\n",
       "      <td>0.00</td>\n",
       "      <td>0.05</td>\n",
       "      <td>0.96</td>\n",
       "      <td>0.00</td>\n",
       "    </tr>\n",
       "    <tr>\n",
       "      <th>SpecialistsFFS</th>\n",
       "      <td>0.32</td>\n",
       "      <td>2.51</td>\n",
       "      <td>0.57</td>\n",
       "      <td>8.51</td>\n",
       "      <td>1.23</td>\n",
       "      <td>2.02</td>\n",
       "      <td>0.48</td>\n",
       "      <td>0.00</td>\n",
       "      <td>0.00</td>\n",
       "      <td>1.07</td>\n",
       "    </tr>\n",
       "  </tbody>\n",
       "</table>\n",
       "</div>"
      ],
      "text/plain": [
       "PAYER               Payer B  Payer CA  Payer CO  Payer F  Payer H  Payer O  \\\n",
       "SERVICE_CATEGORY                                                             \n",
       "ASCServices            0.08      0.42      0.08     1.14     0.26     0.35   \n",
       "AncillaryFFS           0.17      1.34      0.55     4.04     0.80     1.00   \n",
       "ERServices             0.07      0.92      0.15     2.58     0.98     0.92   \n",
       "InpatientServices      0.35      8.52      0.87    20.90     5.54     4.90   \n",
       "OutpatientServices     0.18      2.33      0.30     4.93     1.74     1.26   \n",
       "PCPEncounter           0.00     -0.03      0.01     0.00     0.00     0.00   \n",
       "PCPFFS                 0.04      0.53      0.01     0.69     0.27     0.15   \n",
       "SNFServices            0.03      0.85      0.08     2.05     0.42     0.48   \n",
       "SpecialistFFS          0.00      0.00      0.00     0.03     0.00     0.00   \n",
       "SpecialistsFFS         0.32      2.51      0.57     8.51     1.23     2.02   \n",
       "\n",
       "PAYER               Payer S  Payer UL  Payer UN  Payer W  \n",
       "SERVICE_CATEGORY                                          \n",
       "ASCServices            0.05      0.01      0.15     0.14  \n",
       "AncillaryFFS           0.21      0.03      0.10     1.69  \n",
       "ERServices             0.07      0.02      0.13     0.24  \n",
       "InpatientServices      0.80      0.05      0.93     2.57  \n",
       "OutpatientServices     0.31      0.01      0.50     0.31  \n",
       "PCPEncounter           0.00      0.00      0.00     0.00  \n",
       "PCPFFS                 0.00      0.00      0.23     0.10  \n",
       "SNFServices            0.05      0.00      0.11     0.17  \n",
       "SpecialistFFS          0.00      0.05      0.96     0.00  \n",
       "SpecialistsFFS         0.48      0.00      0.00     1.07  "
      ]
     },
     "execution_count": 156,
     "metadata": {},
     "output_type": "execute_result"
    },
    {
     "data": {
      "image/png": "[encoded data removed]",
      "text/plain": [
       "<Figure size 432x288 with 2 Axes>"
      ]
     },
     "metadata": {
      "needs_background": "light"
     },
     "output_type": "display_data"
    }
   ],
   "source": [
    "# pivot the data\n",
    "df_pivot = df_ref.pivot(index='SERVICE_CATEGORY', columns='PAYER', values='%').fillna(0)\n",
    "print(\"Relationships between Service Category and Payer in percents:\")\n",
    "seaborn.heatmap(df_pivot)\n",
    "df_pivot"
   ]
  },
  {
   "cell_type": "markdown",
   "id": "cfc2d2fd",
   "metadata": {},
   "source": [
    "#### Forecast for the next 6 month"
   ]
  },
  {
   "cell_type": "code",
   "execution_count": 154,
   "id": "8a54a59d",
   "metadata": {},
   "outputs": [
    {
     "name": "stdout",
     "output_type": "stream",
     "text": [
      "Prediction of total amount for the next 6 month.\n"
     ]
    },
    {
     "data": {
      "text/html": [
       "<div>\n",
       "<style scoped>\n",
       "    .dataframe tbody tr th:only-of-type {\n",
       "        vertical-align: middle;\n",
       "    }\n",
       "\n",
       "    .dataframe tbody tr th {\n",
       "        vertical-align: top;\n",
       "    }\n",
       "\n",
       "    .dataframe thead th {\n",
       "        text-align: right;\n",
       "    }\n",
       "</style>\n",
       "<table border=\"1\" class=\"dataframe\">\n",
       "  <thead>\n",
       "    <tr style=\"text-align: right;\">\n",
       "      <th></th>\n",
       "      <th>PAID_AMOUNT</th>\n",
       "    </tr>\n",
       "    <tr>\n",
       "      <th>MONTH</th>\n",
       "      <th></th>\n",
       "    </tr>\n",
       "  </thead>\n",
       "  <tbody>\n",
       "    <tr>\n",
       "      <th>202007</th>\n",
       "      <td>4.407875e+06</td>\n",
       "    </tr>\n",
       "    <tr>\n",
       "      <th>202008</th>\n",
       "      <td>3.635532e+06</td>\n",
       "    </tr>\n",
       "    <tr>\n",
       "      <th>202009</th>\n",
       "      <td>4.145009e+06</td>\n",
       "    </tr>\n",
       "    <tr>\n",
       "      <th>202010</th>\n",
       "      <td>3.926023e+06</td>\n",
       "    </tr>\n",
       "    <tr>\n",
       "      <th>202011</th>\n",
       "      <td>4.117514e+06</td>\n",
       "    </tr>\n",
       "    <tr>\n",
       "      <th>202012</th>\n",
       "      <td>4.074318e+06</td>\n",
       "    </tr>\n",
       "  </tbody>\n",
       "</table>\n",
       "</div>"
      ],
      "text/plain": [
       "         PAID_AMOUNT\n",
       "MONTH               \n",
       "202007  4.407875e+06\n",
       "202008  3.635532e+06\n",
       "202009  4.145009e+06\n",
       "202010  3.926023e+06\n",
       "202011  4.117514e+06\n",
       "202012  4.074318e+06"
      ]
     },
     "execution_count": 154,
     "metadata": {},
     "output_type": "execute_result"
    },
    {
     "data": {
      "image/png": "[encoded data removed]",
      "text/plain": [
       "<Figure size 432x288 with 1 Axes>"
      ]
     },
     "metadata": {
      "needs_background": "light"
     },
     "output_type": "display_data"
    }
   ],
   "source": [
    "from sklearn.metrics import mean_squared_error\n",
    "from math import sqrt\n",
    "from pmdarima.arima import auto_arima, ADFTest\n",
    "\n",
    "# get a time serie for amount by month\n",
    "df_series = df[['MONTH','PAID_AMOUNT']].groupby('MONTH').sum()\n",
    "\n",
    "# get train and test parts\n",
    "time_serie = df_series.PAID_AMOUNT.values\n",
    "train = time_serie[:24]\n",
    "test = time_serie[24:]\n",
    "\n",
    "# ARIMA model\n",
    "# test whether the time series is stationary or needs differencing.\n",
    "adf_test = ADFTest(alpha = 0.05)\n",
    "# print(adf_test.should_diff(time_serie))\n",
    "\n",
    "# fit ARIMA model and make a prediction\n",
    "model = auto_arima(time_serie)\n",
    "pred = model.predict(n_periods=6)\n",
    "\n",
    "# new rows - month and amount\n",
    "month = [202006+k for k in range(1,7)]\n",
    "amounts = pred\n",
    "new_rows = {\"MONTH\": month, \"PAID_AMOUNT\": amounts}\n",
    "\n",
    "df_result = pd.concat([df_series, pd.DataFrame(new_rows).set_index('MONTH')])\n",
    "df_result.PAID_AMOUNT.plot.bar()\n",
    "print(\"Prediction of total amount for the next 6 month.\")\n",
    "df_result[-6:]"
   ]
  },
  {
   "cell_type": "code",
   "execution_count": null,
   "id": "51f60821",
   "metadata": {},
   "outputs": [],
   "source": []
  }
 ],
 "metadata": {
  "kernelspec": {
   "display_name": "Python 3 (ipykernel)",
   "language": "python",
   "name": "python3"
  },
  "language_info": {
   "codemirror_mode": {
    "name": "ipython",
    "version": 3
   },
   "file_extension": ".py",
   "mimetype": "text/x-python",
   "name": "python",
   "nbconvert_exporter": "python",
   "pygments_lexer": "ipython3",
   "version": "3.9.12"
  }
 },
 "nbformat": 4,
 "nbformat_minor": 5
}
